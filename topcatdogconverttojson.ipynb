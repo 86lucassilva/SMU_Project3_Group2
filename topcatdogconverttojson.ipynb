{
 "cells": [
  {
   "cell_type": "code",
   "execution_count": 1,
   "id": "2b85bff1",
   "metadata": {},
   "outputs": [],
   "source": [
    "import pandas as pd"
   ]
  },
  {
   "cell_type": "code",
   "execution_count": 2,
   "id": "7ccca596",
   "metadata": {},
   "outputs": [],
   "source": [
    "csv_file = pd.DataFrame(pd.read_csv(\"C:/Users/Querida and Macaco/Desktop/SMU/top_cat_dog_breed.csv\", sep = \",\"))"
   ]
  },
  {
   "cell_type": "code",
   "execution_count": 3,
   "id": "67611ef4",
   "metadata": {},
   "outputs": [],
   "source": [
    "csv_file.to_json(\"C:/Users/Querida and Macaco/Desktop/SMU//top_cat_dog_breed.json\", orient = \"records\")"
   ]
  },
  {
   "cell_type": "code",
   "execution_count": null,
   "id": "fc985da8",
   "metadata": {},
   "outputs": [],
   "source": []
  }
 ],
 "metadata": {
  "kernelspec": {
   "display_name": "Python 3",
   "language": "python",
   "name": "python3"
  },
  "language_info": {
   "codemirror_mode": {
    "name": "ipython",
    "version": 3
   },
   "file_extension": ".py",
   "mimetype": "text/x-python",
   "name": "python",
   "nbconvert_exporter": "python",
   "pygments_lexer": "ipython3",
   "version": "3.8.8"
  }
 },
 "nbformat": 4,
 "nbformat_minor": 5
}
